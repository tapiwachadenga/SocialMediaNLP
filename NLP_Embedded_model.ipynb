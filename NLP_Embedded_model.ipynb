{
  "nbformat": 4,
  "nbformat_minor": 0,
  "metadata": {
    "colab": {
      "name": "NLP - Embedded model.ipynb",
      "provenance": [],
      "collapsed_sections": []
    },
    "kernelspec": {
      "name": "python3",
      "display_name": "Python 3"
    },
    "language_info": {
      "name": "python"
    },
    "accelerator": "GPU"
  },
  "cells": [
    {
      "cell_type": "code",
      "metadata": {
        "id": "61ATgMht2MAg"
      },
      "source": [
        "import numpy as np\n",
        "import pandas as pd\n",
        "from matplotlib import pyplot as plt\n",
        "\n",
        "from __future__ import absolute_import, division, print_function, unicode_literals\n",
        "import tensorflow as tf\n",
        "import tensorflow_hub as hub\n",
        "import tensorflow_datasets as tfds\n",
        "from tensorflow import keras\n",
        "\n",
        "from sklearn.model_selection import train_test_split"
      ],
      "execution_count": 61,
      "outputs": []
    },
    {
      "cell_type": "code",
      "metadata": {
        "id": "q5_gyUFy2cJT"
      },
      "source": [
        "data = pd.read_csv('/content/drive/MyDrive/Assignments/NLP - Social Media/Labelled_text.csv')"
      ],
      "execution_count": 62,
      "outputs": []
    },
    {
      "cell_type": "code",
      "metadata": {
        "colab": {
          "base_uri": "https://localhost:8080/",
          "height": 363
        },
        "id": "B2bGNrLC2jcn",
        "outputId": "c1d0f607-84ff-49c3-a18c-c3ae5cbde9d5"
      },
      "source": [
        "data.head(10)"
      ],
      "execution_count": 63,
      "outputs": [
        {
          "output_type": "execute_result",
          "data": {
            "text/html": [
              "<div>\n",
              "<style scoped>\n",
              "    .dataframe tbody tr th:only-of-type {\n",
              "        vertical-align: middle;\n",
              "    }\n",
              "\n",
              "    .dataframe tbody tr th {\n",
              "        vertical-align: top;\n",
              "    }\n",
              "\n",
              "    .dataframe thead th {\n",
              "        text-align: right;\n",
              "    }\n",
              "</style>\n",
              "<table border=\"1\" class=\"dataframe\">\n",
              "  <thead>\n",
              "    <tr style=\"text-align: right;\">\n",
              "      <th></th>\n",
              "      <th>text</th>\n",
              "      <th>label</th>\n",
              "    </tr>\n",
              "  </thead>\n",
              "  <tbody>\n",
              "    <tr>\n",
              "      <th>0</th>\n",
              "      <td>Manchester MMA fighter Brendan Loughnane 21-3-...</td>\n",
              "      <td>mma</td>\n",
              "    </tr>\n",
              "    <tr>\n",
              "      <th>1</th>\n",
              "      <td>Former PFL women s lightweight champion Kayla ...</td>\n",
              "      <td>mma</td>\n",
              "    </tr>\n",
              "    <tr>\n",
              "      <th>2</th>\n",
              "      <td>Kayla Harrison is a perfectionist inside the c...</td>\n",
              "      <td>mma</td>\n",
              "    </tr>\n",
              "    <tr>\n",
              "      <th>3</th>\n",
              "      <td>Ciryl Gane stopped Derrick Lewis with a flurry...</td>\n",
              "      <td>mma</td>\n",
              "    </tr>\n",
              "    <tr>\n",
              "      <th>4</th>\n",
              "      <td>As Manchester's featherweight contender Brenda...</td>\n",
              "      <td>mma</td>\n",
              "    </tr>\n",
              "    <tr>\n",
              "      <th>5</th>\n",
              "      <td>The culmination of the nearly two-year Bellato...</td>\n",
              "      <td>mma</td>\n",
              "    </tr>\n",
              "    <tr>\n",
              "      <th>6</th>\n",
              "      <td>Bellator will be returning to London on Octobe...</td>\n",
              "      <td>mma</td>\n",
              "    </tr>\n",
              "    <tr>\n",
              "      <th>7</th>\n",
              "      <td>Conor McGregor says he had \"multiple stress fr...</td>\n",
              "      <td>mma</td>\n",
              "    </tr>\n",
              "    <tr>\n",
              "      <th>8</th>\n",
              "      <td>As Conor McGregor recovers from a horrific and...</td>\n",
              "      <td>mma</td>\n",
              "    </tr>\n",
              "    <tr>\n",
              "      <th>9</th>\n",
              "      <td>Conor McGregor said he was feeling \"tremendous...</td>\n",
              "      <td>mma</td>\n",
              "    </tr>\n",
              "  </tbody>\n",
              "</table>\n",
              "</div>"
            ],
            "text/plain": [
              "                                                text label\n",
              "0  Manchester MMA fighter Brendan Loughnane 21-3-...   mma\n",
              "1  Former PFL women s lightweight champion Kayla ...   mma\n",
              "2  Kayla Harrison is a perfectionist inside the c...   mma\n",
              "3  Ciryl Gane stopped Derrick Lewis with a flurry...   mma\n",
              "4  As Manchester's featherweight contender Brenda...   mma\n",
              "5  The culmination of the nearly two-year Bellato...   mma\n",
              "6  Bellator will be returning to London on Octobe...   mma\n",
              "7  Conor McGregor says he had \"multiple stress fr...   mma\n",
              "8  As Conor McGregor recovers from a horrific and...   mma\n",
              "9  Conor McGregor said he was feeling \"tremendous...   mma"
            ]
          },
          "metadata": {},
          "execution_count": 63
        }
      ]
    },
    {
      "cell_type": "code",
      "metadata": {
        "colab": {
          "base_uri": "https://localhost:8080/"
        },
        "id": "ZstMqPfM2zYw",
        "outputId": "b3f0dadf-9f2b-40bb-c139-d251cabab53d"
      },
      "source": [
        "data.shape"
      ],
      "execution_count": 64,
      "outputs": [
        {
          "output_type": "execute_result",
          "data": {
            "text/plain": [
              "(21594, 2)"
            ]
          },
          "metadata": {},
          "execution_count": 64
        }
      ]
    },
    {
      "cell_type": "code",
      "metadata": {
        "id": "0KQIYyLO7Wh7"
      },
      "source": [
        "data = data[['text', 'label']]"
      ],
      "execution_count": 65,
      "outputs": []
    },
    {
      "cell_type": "code",
      "metadata": {
        "colab": {
          "base_uri": "https://localhost:8080/",
          "height": 363
        },
        "id": "_sldQSxt8KC6",
        "outputId": "d5ae7da7-69f9-4ce9-9f0c-6978910f3c65"
      },
      "source": [
        "data.head(10)"
      ],
      "execution_count": 66,
      "outputs": [
        {
          "output_type": "execute_result",
          "data": {
            "text/html": [
              "<div>\n",
              "<style scoped>\n",
              "    .dataframe tbody tr th:only-of-type {\n",
              "        vertical-align: middle;\n",
              "    }\n",
              "\n",
              "    .dataframe tbody tr th {\n",
              "        vertical-align: top;\n",
              "    }\n",
              "\n",
              "    .dataframe thead th {\n",
              "        text-align: right;\n",
              "    }\n",
              "</style>\n",
              "<table border=\"1\" class=\"dataframe\">\n",
              "  <thead>\n",
              "    <tr style=\"text-align: right;\">\n",
              "      <th></th>\n",
              "      <th>text</th>\n",
              "      <th>label</th>\n",
              "    </tr>\n",
              "  </thead>\n",
              "  <tbody>\n",
              "    <tr>\n",
              "      <th>0</th>\n",
              "      <td>Manchester MMA fighter Brendan Loughnane 21-3-...</td>\n",
              "      <td>mma</td>\n",
              "    </tr>\n",
              "    <tr>\n",
              "      <th>1</th>\n",
              "      <td>Former PFL women s lightweight champion Kayla ...</td>\n",
              "      <td>mma</td>\n",
              "    </tr>\n",
              "    <tr>\n",
              "      <th>2</th>\n",
              "      <td>Kayla Harrison is a perfectionist inside the c...</td>\n",
              "      <td>mma</td>\n",
              "    </tr>\n",
              "    <tr>\n",
              "      <th>3</th>\n",
              "      <td>Ciryl Gane stopped Derrick Lewis with a flurry...</td>\n",
              "      <td>mma</td>\n",
              "    </tr>\n",
              "    <tr>\n",
              "      <th>4</th>\n",
              "      <td>As Manchester's featherweight contender Brenda...</td>\n",
              "      <td>mma</td>\n",
              "    </tr>\n",
              "    <tr>\n",
              "      <th>5</th>\n",
              "      <td>The culmination of the nearly two-year Bellato...</td>\n",
              "      <td>mma</td>\n",
              "    </tr>\n",
              "    <tr>\n",
              "      <th>6</th>\n",
              "      <td>Bellator will be returning to London on Octobe...</td>\n",
              "      <td>mma</td>\n",
              "    </tr>\n",
              "    <tr>\n",
              "      <th>7</th>\n",
              "      <td>Conor McGregor says he had \"multiple stress fr...</td>\n",
              "      <td>mma</td>\n",
              "    </tr>\n",
              "    <tr>\n",
              "      <th>8</th>\n",
              "      <td>As Conor McGregor recovers from a horrific and...</td>\n",
              "      <td>mma</td>\n",
              "    </tr>\n",
              "    <tr>\n",
              "      <th>9</th>\n",
              "      <td>Conor McGregor said he was feeling \"tremendous...</td>\n",
              "      <td>mma</td>\n",
              "    </tr>\n",
              "  </tbody>\n",
              "</table>\n",
              "</div>"
            ],
            "text/plain": [
              "                                                text label\n",
              "0  Manchester MMA fighter Brendan Loughnane 21-3-...   mma\n",
              "1  Former PFL women s lightweight champion Kayla ...   mma\n",
              "2  Kayla Harrison is a perfectionist inside the c...   mma\n",
              "3  Ciryl Gane stopped Derrick Lewis with a flurry...   mma\n",
              "4  As Manchester's featherweight contender Brenda...   mma\n",
              "5  The culmination of the nearly two-year Bellato...   mma\n",
              "6  Bellator will be returning to London on Octobe...   mma\n",
              "7  Conor McGregor says he had \"multiple stress fr...   mma\n",
              "8  As Conor McGregor recovers from a horrific and...   mma\n",
              "9  Conor McGregor said he was feeling \"tremendous...   mma"
            ]
          },
          "metadata": {},
          "execution_count": 66
        }
      ]
    },
    {
      "cell_type": "code",
      "metadata": {
        "id": "TlHaSbmXy-qK"
      },
      "source": [
        "data.dropna(inplace=True)"
      ],
      "execution_count": 67,
      "outputs": []
    },
    {
      "cell_type": "code",
      "metadata": {
        "colab": {
          "base_uri": "https://localhost:8080/"
        },
        "id": "OHeu5ZLV8WR4",
        "outputId": "8cbddfea-2a94-45d2-bf74-ae105d68d496"
      },
      "source": [
        "data['label'].value_counts()"
      ],
      "execution_count": 68,
      "outputs": [
        {
          "output_type": "execute_result",
          "data": {
            "text/plain": [
              "other_sport    7686\n",
              "nonsport       2336\n",
              "football       2225\n",
              "soccer         2075\n",
              "baseball       1965\n",
              "cricket        1044\n",
              "basketball      928\n",
              "rugby           866\n",
              "boxing          563\n",
              "tennis          491\n",
              "f1              458\n",
              "netball         319\n",
              "golf            276\n",
              "hockey          229\n",
              "mma             116\n",
              "Name: label, dtype: int64"
            ]
          },
          "metadata": {},
          "execution_count": 68
        }
      ]
    },
    {
      "cell_type": "code",
      "metadata": {
        "id": "teC9Z-foGhWn"
      },
      "source": [
        "X_train, X_test, y_train, y_test = train_test_split(data.text, data.label, test_size=0.2, random_state=42, stratify=data.label)"
      ],
      "execution_count": 69,
      "outputs": []
    },
    {
      "cell_type": "code",
      "metadata": {
        "id": "eh0zoJyauzkB"
      },
      "source": [
        "X_train, X_val, y_train, y_val = train_test_split(X_train, y_train, test_size=0.25, random_state=42, stratify=y_train)"
      ],
      "execution_count": 70,
      "outputs": []
    },
    {
      "cell_type": "code",
      "metadata": {
        "colab": {
          "base_uri": "https://localhost:8080/"
        },
        "id": "LMPKBNzHwOVy",
        "outputId": "4feb549d-0606-4a1e-ecaf-66afc9f9c3ef"
      },
      "source": [
        "print(X_train.shape, X_val.shape, X_test.shape)"
      ],
      "execution_count": 71,
      "outputs": [
        {
          "output_type": "stream",
          "name": "stdout",
          "text": [
            "(12945,) (4316,) (4316,)\n"
          ]
        }
      ]
    },
    {
      "cell_type": "code",
      "metadata": {
        "id": "jATY2Gwtl-Mu"
      },
      "source": [
        "y_train_ohe = pd.get_dummies(y_train)\n",
        "y_test_ohe = pd.get_dummies(y_test)\n",
        "y_val_ohe = pd.get_dummies(y_val)"
      ],
      "execution_count": 72,
      "outputs": []
    },
    {
      "cell_type": "code",
      "metadata": {
        "id": "ovhRbMBjPg7a"
      },
      "source": [
        "embedding = \"https://tfhub.dev/google/nnlm-en-dim128/2\"\n",
        "hub_layer = hub.KerasLayer(embedding, input_shape=[], dtype=tf.string, trainable=True)"
      ],
      "execution_count": 73,
      "outputs": []
    },
    {
      "cell_type": "code",
      "metadata": {
        "id": "BacqRpH5PqAl"
      },
      "source": [
        "model = tf.keras.Sequential()\n",
        "model.add(hub_layer)\n",
        "model.add(tf.keras.layers.Dense(64, activation='relu'))\n",
        "model.add(tf.keras.layers.Dropout(0.3))\n",
        "model.add(tf.keras.layers.Dense(y_train_ohe.shape[1], activation='softmax'))"
      ],
      "execution_count": 74,
      "outputs": []
    },
    {
      "cell_type": "code",
      "metadata": {
        "colab": {
          "base_uri": "https://localhost:8080/"
        },
        "id": "-_-1dLEiPxIl",
        "outputId": "00b71ba4-ba30-4019-d3eb-1d12a59ee28d"
      },
      "source": [
        "model.summary()"
      ],
      "execution_count": 75,
      "outputs": [
        {
          "output_type": "stream",
          "name": "stdout",
          "text": [
            "Model: \"sequential_4\"\n",
            "_________________________________________________________________\n",
            "Layer (type)                 Output Shape              Param #   \n",
            "=================================================================\n",
            "keras_layer_2 (KerasLayer)   (None, 128)               124642688 \n",
            "_________________________________________________________________\n",
            "dense_10 (Dense)             (None, 64)                8256      \n",
            "_________________________________________________________________\n",
            "dropout_5 (Dropout)          (None, 64)                0         \n",
            "_________________________________________________________________\n",
            "dense_11 (Dense)             (None, 15)                975       \n",
            "=================================================================\n",
            "Total params: 124,651,919\n",
            "Trainable params: 124,651,919\n",
            "Non-trainable params: 0\n",
            "_________________________________________________________________\n"
          ]
        }
      ]
    },
    {
      "cell_type": "code",
      "metadata": {
        "id": "iqsCp-9hRUSg"
      },
      "source": [
        "model.compile(optimizer='Nadam', loss='categorical_crossentropy', metrics=['accuracy'])"
      ],
      "execution_count": 76,
      "outputs": []
    },
    {
      "cell_type": "code",
      "metadata": {
        "id": "ObWtpx0P4iYz"
      },
      "source": [
        "callback = tf.keras.callbacks.EarlyStopping(monitor='val_loss', patience=5)"
      ],
      "execution_count": 77,
      "outputs": []
    },
    {
      "cell_type": "code",
      "metadata": {
        "id": "OuLbUYY75J0w"
      },
      "source": [
        "class_weight = {}\n",
        "for i in range(y_train_ohe.shape[1]):\n",
        "  class_weight[i] = y_train_ohe.shape[0]/np.sum(y_train_ohe.iloc[:,i])/y_train_ohe.shape[1]"
      ],
      "execution_count": 78,
      "outputs": []
    },
    {
      "cell_type": "code",
      "metadata": {
        "colab": {
          "base_uri": "https://localhost:8080/"
        },
        "id": "OFkCAqET6Pt5",
        "outputId": "3c6c191a-0740-476b-d094-265c1366c5e8"
      },
      "source": [
        "class_weight"
      ],
      "execution_count": 79,
      "outputs": [
        {
          "output_type": "execute_result",
          "data": {
            "text/plain": [
              "{0: 0.7319762510602206,\n",
              " 1: 1.5521582733812949,\n",
              " 2: 2.5608308605341246,\n",
              " 3: 1.378594249201278,\n",
              " 4: 3.138181818181818,\n",
              " 5: 0.6464419475655431,\n",
              " 6: 5.198795180722892,\n",
              " 7: 6.299270072992701,\n",
              " 8: 12.328571428571427,\n",
              " 9: 4.518324607329843,\n",
              " 10: 0.615549215406562,\n",
              " 11: 0.18716113641292562,\n",
              " 12: 1.6596153846153847,\n",
              " 13: 0.6931726907630522,\n",
              " 14: 2.9254237288135596}"
            ]
          },
          "metadata": {},
          "execution_count": 79
        }
      ]
    },
    {
      "cell_type": "code",
      "metadata": {
        "colab": {
          "base_uri": "https://localhost:8080/"
        },
        "id": "qW_baVRfRWlJ",
        "outputId": "4a0f1613-c520-46d3-a0b9-99b4ce048e53"
      },
      "source": [
        "history=model.fit(X_train, y_train_ohe, batch_size=32, validation_data=(X_val, y_val_ohe), epochs=20, verbose=1,\n",
        "                  callbacks=[callback],class_weight=class_weight)"
      ],
      "execution_count": 80,
      "outputs": [
        {
          "output_type": "stream",
          "name": "stdout",
          "text": [
            "Epoch 1/20\n",
            "405/405 [==============================] - 30s 71ms/step - loss: 2.3239 - accuracy: 0.2743 - val_loss: 2.0080 - val_accuracy: 0.4780\n",
            "Epoch 2/20\n",
            "405/405 [==============================] - 29s 71ms/step - loss: 1.4519 - accuracy: 0.5475 - val_loss: 1.6366 - val_accuracy: 0.5111\n",
            "Epoch 3/20\n",
            "405/405 [==============================] - 29s 71ms/step - loss: 0.7810 - accuracy: 0.7122 - val_loss: 1.3647 - val_accuracy: 0.5755\n",
            "Epoch 4/20\n",
            "405/405 [==============================] - 29s 71ms/step - loss: 0.4209 - accuracy: 0.8228 - val_loss: 1.3213 - val_accuracy: 0.5927\n",
            "Epoch 5/20\n",
            "405/405 [==============================] - 29s 71ms/step - loss: 0.2437 - accuracy: 0.8853 - val_loss: 1.3491 - val_accuracy: 0.5994\n",
            "Epoch 6/20\n",
            "405/405 [==============================] - 29s 70ms/step - loss: 0.1519 - accuracy: 0.9229 - val_loss: 1.3498 - val_accuracy: 0.6175\n",
            "Epoch 7/20\n",
            "405/405 [==============================] - 29s 71ms/step - loss: 0.0961 - accuracy: 0.9499 - val_loss: 1.4269 - val_accuracy: 0.6182\n",
            "Epoch 8/20\n",
            "405/405 [==============================] - 29s 71ms/step - loss: 0.0698 - accuracy: 0.9653 - val_loss: 1.4963 - val_accuracy: 0.6274\n",
            "Epoch 9/20\n",
            "405/405 [==============================] - 29s 71ms/step - loss: 0.0461 - accuracy: 0.9766 - val_loss: 1.5898 - val_accuracy: 0.6226\n"
          ]
        }
      ]
    },
    {
      "cell_type": "code",
      "metadata": {
        "colab": {
          "base_uri": "https://localhost:8080/"
        },
        "id": "XviSjS-TsIok",
        "outputId": "94a42d03-aecc-42a2-916a-8946598e2713"
      },
      "source": [
        "results = model.evaluate(X_test, y_test_ohe, verbose=2)"
      ],
      "execution_count": 81,
      "outputs": [
        {
          "output_type": "stream",
          "name": "stdout",
          "text": [
            "135/135 - 1s - loss: 1.6299 - accuracy: 0.6221\n"
          ]
        }
      ]
    },
    {
      "cell_type": "code",
      "metadata": {
        "colab": {
          "base_uri": "https://localhost:8080/"
        },
        "id": "UwCob9QPBpXG",
        "outputId": "e4647523-82cb-4273-dd29-6215abde0a37"
      },
      "source": [
        "model.evaluate(X_val, y_val_ohe, verbose=2)"
      ],
      "execution_count": 82,
      "outputs": [
        {
          "output_type": "stream",
          "name": "stdout",
          "text": [
            "135/135 - 1s - loss: 1.5898 - accuracy: 0.6226\n"
          ]
        },
        {
          "output_type": "execute_result",
          "data": {
            "text/plain": [
              "[1.5898078680038452, 0.6225671768188477]"
            ]
          },
          "metadata": {},
          "execution_count": 82
        }
      ]
    },
    {
      "cell_type": "code",
      "metadata": {
        "colab": {
          "base_uri": "https://localhost:8080/"
        },
        "id": "UqUgTiYgBpeV",
        "outputId": "46f01636-530d-41b0-fd64-0f2303546b9b"
      },
      "source": [
        "model.evaluate(X_train, y_train_ohe, verbose=2)"
      ],
      "execution_count": 83,
      "outputs": [
        {
          "output_type": "stream",
          "name": "stdout",
          "text": [
            "405/405 - 4s - loss: 0.0459 - accuracy: 0.9910\n"
          ]
        },
        {
          "output_type": "execute_result",
          "data": {
            "text/plain": [
              "[0.045941758900880814, 0.9910390377044678]"
            ]
          },
          "metadata": {},
          "execution_count": 83
        }
      ]
    }
  ]
}