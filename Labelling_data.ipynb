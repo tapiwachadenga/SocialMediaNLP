{
  "nbformat": 4,
  "nbformat_minor": 0,
  "metadata": {
    "colab": {
      "name": "Labelling data.ipynb",
      "provenance": []
    },
    "kernelspec": {
      "name": "python3",
      "display_name": "Python 3"
    },
    "language_info": {
      "name": "python"
    }
  },
  "cells": [
    {
      "cell_type": "markdown",
      "metadata": {
        "id": "TpMF_dgUCAK0"
      },
      "source": [
        "# Labelling dataset"
      ]
    },
    {
      "cell_type": "markdown",
      "metadata": {
        "id": "x6m-6edizUdo"
      },
      "source": [
        "## Load libraries and dataset"
      ]
    },
    {
      "cell_type": "code",
      "metadata": {
        "id": "33E2gdsyynOh"
      },
      "source": [
        "import pandas as pd\n",
        "import numpy as np\n",
        "\n",
        "import tensorflow_hub as hub\n",
        "import tensorflow as tf\n",
        "\n",
        "from sklearn.neighbors import KNeighborsClassifier\n",
        "from sklearn.model_selection import GridSearchCV\n",
        "from sklearn import metrics"
      ],
      "execution_count": 50,
      "outputs": []
    },
    {
      "cell_type": "code",
      "metadata": {
        "colab": {
          "base_uri": "https://localhost:8080/",
          "height": 206
        },
        "id": "mNX8LMttyz-_",
        "outputId": "bb4e13ec-9b91-46cb-8514-c53c0b064861"
      },
      "source": [
        "data = pd.read_csv('/content/drive/MyDrive/Assignments/NLP - Social Media/Unlabelled_text_V2.csv')\n",
        "data.head()"
      ],
      "execution_count": 52,
      "outputs": [
        {
          "output_type": "execute_result",
          "data": {
            "text/html": [
              "<div>\n",
              "<style scoped>\n",
              "    .dataframe tbody tr th:only-of-type {\n",
              "        vertical-align: middle;\n",
              "    }\n",
              "\n",
              "    .dataframe tbody tr th {\n",
              "        vertical-align: top;\n",
              "    }\n",
              "\n",
              "    .dataframe thead th {\n",
              "        text-align: right;\n",
              "    }\n",
              "</style>\n",
              "<table border=\"1\" class=\"dataframe\">\n",
              "  <thead>\n",
              "    <tr style=\"text-align: right;\">\n",
              "      <th></th>\n",
              "      <th>link</th>\n",
              "      <th>text</th>\n",
              "      <th>label</th>\n",
              "      <th>site</th>\n",
              "    </tr>\n",
              "  </thead>\n",
              "  <tbody>\n",
              "    <tr>\n",
              "      <th>0</th>\n",
              "      <td>https://www.skysports.com/mma/news/36350/12389...</td>\n",
              "      <td>Manchester MMA fighter Brendan Loughnane 21-3-...</td>\n",
              "      <td>mma</td>\n",
              "      <td>SKY</td>\n",
              "    </tr>\n",
              "    <tr>\n",
              "      <th>1</th>\n",
              "      <td>https://www.skysports.com/mma/news/36350/12385...</td>\n",
              "      <td>Former PFL women s lightweight champion Kayla ...</td>\n",
              "      <td>mma</td>\n",
              "      <td>SKY</td>\n",
              "    </tr>\n",
              "    <tr>\n",
              "      <th>2</th>\n",
              "      <td>https://www.skysports.com/mma/news/19828/12384...</td>\n",
              "      <td>Kayla Harrison is a perfectionist inside the c...</td>\n",
              "      <td>mma</td>\n",
              "      <td>SKY</td>\n",
              "    </tr>\n",
              "    <tr>\n",
              "      <th>3</th>\n",
              "      <td>https://www.skysports.com/mma/news/19828/12376...</td>\n",
              "      <td>Ciryl Gane stopped Derrick Lewis with a flurry...</td>\n",
              "      <td>mma</td>\n",
              "      <td>SKY</td>\n",
              "    </tr>\n",
              "    <tr>\n",
              "      <th>4</th>\n",
              "      <td>https://www.skysports.com/mma/news/36350/12373...</td>\n",
              "      <td>As Manchester's featherweight contender Brenda...</td>\n",
              "      <td>mma</td>\n",
              "      <td>SKY</td>\n",
              "    </tr>\n",
              "  </tbody>\n",
              "</table>\n",
              "</div>"
            ],
            "text/plain": [
              "                                                link  ... site\n",
              "0  https://www.skysports.com/mma/news/36350/12389...  ...  SKY\n",
              "1  https://www.skysports.com/mma/news/36350/12385...  ...  SKY\n",
              "2  https://www.skysports.com/mma/news/19828/12384...  ...  SKY\n",
              "3  https://www.skysports.com/mma/news/19828/12376...  ...  SKY\n",
              "4  https://www.skysports.com/mma/news/36350/12373...  ...  SKY\n",
              "\n",
              "[5 rows x 4 columns]"
            ]
          },
          "metadata": {},
          "execution_count": 52
        }
      ]
    },
    {
      "cell_type": "code",
      "metadata": {
        "colab": {
          "base_uri": "https://localhost:8080/"
        },
        "id": "aUNPDNUyy-Mf",
        "outputId": "06c82650-0982-494d-f11e-7391a1d33b8a"
      },
      "source": [
        "data.shape"
      ],
      "execution_count": 53,
      "outputs": [
        {
          "output_type": "execute_result",
          "data": {
            "text/plain": [
              "(21594, 4)"
            ]
          },
          "metadata": {},
          "execution_count": 53
        }
      ]
    },
    {
      "cell_type": "code",
      "metadata": {
        "id": "d8wKISRxy_8f"
      },
      "source": [
        "data.drop(['link','site'],axis=1,inplace=True)"
      ],
      "execution_count": 54,
      "outputs": []
    },
    {
      "cell_type": "code",
      "metadata": {
        "colab": {
          "base_uri": "https://localhost:8080/",
          "height": 225
        },
        "id": "ANGo50CLzBXH",
        "outputId": "a5725f4e-bcce-48de-c7c8-db55d18729ab"
      },
      "source": [
        "print(data.shape)\n",
        "data.head()"
      ],
      "execution_count": 55,
      "outputs": [
        {
          "output_type": "stream",
          "name": "stdout",
          "text": [
            "(21594, 2)\n"
          ]
        },
        {
          "output_type": "execute_result",
          "data": {
            "text/html": [
              "<div>\n",
              "<style scoped>\n",
              "    .dataframe tbody tr th:only-of-type {\n",
              "        vertical-align: middle;\n",
              "    }\n",
              "\n",
              "    .dataframe tbody tr th {\n",
              "        vertical-align: top;\n",
              "    }\n",
              "\n",
              "    .dataframe thead th {\n",
              "        text-align: right;\n",
              "    }\n",
              "</style>\n",
              "<table border=\"1\" class=\"dataframe\">\n",
              "  <thead>\n",
              "    <tr style=\"text-align: right;\">\n",
              "      <th></th>\n",
              "      <th>text</th>\n",
              "      <th>label</th>\n",
              "    </tr>\n",
              "  </thead>\n",
              "  <tbody>\n",
              "    <tr>\n",
              "      <th>0</th>\n",
              "      <td>Manchester MMA fighter Brendan Loughnane 21-3-...</td>\n",
              "      <td>mma</td>\n",
              "    </tr>\n",
              "    <tr>\n",
              "      <th>1</th>\n",
              "      <td>Former PFL women s lightweight champion Kayla ...</td>\n",
              "      <td>mma</td>\n",
              "    </tr>\n",
              "    <tr>\n",
              "      <th>2</th>\n",
              "      <td>Kayla Harrison is a perfectionist inside the c...</td>\n",
              "      <td>mma</td>\n",
              "    </tr>\n",
              "    <tr>\n",
              "      <th>3</th>\n",
              "      <td>Ciryl Gane stopped Derrick Lewis with a flurry...</td>\n",
              "      <td>mma</td>\n",
              "    </tr>\n",
              "    <tr>\n",
              "      <th>4</th>\n",
              "      <td>As Manchester's featherweight contender Brenda...</td>\n",
              "      <td>mma</td>\n",
              "    </tr>\n",
              "  </tbody>\n",
              "</table>\n",
              "</div>"
            ],
            "text/plain": [
              "                                                text label\n",
              "0  Manchester MMA fighter Brendan Loughnane 21-3-...   mma\n",
              "1  Former PFL women s lightweight champion Kayla ...   mma\n",
              "2  Kayla Harrison is a perfectionist inside the c...   mma\n",
              "3  Ciryl Gane stopped Derrick Lewis with a flurry...   mma\n",
              "4  As Manchester's featherweight contender Brenda...   mma"
            ]
          },
          "metadata": {},
          "execution_count": 55
        }
      ]
    },
    {
      "cell_type": "code",
      "metadata": {
        "colab": {
          "base_uri": "https://localhost:8080/"
        },
        "id": "_fq6EPWr4kkH",
        "outputId": "e1a25a3d-ca97-409c-bdc2-046b9fa095cd"
      },
      "source": [
        "data.groupby('label').size()"
      ],
      "execution_count": 56,
      "outputs": [
        {
          "output_type": "execute_result",
          "data": {
            "text/plain": [
              "label\n",
              "baseball        272\n",
              "basketball      158\n",
              "boxing          135\n",
              "cricket         241\n",
              "f1              130\n",
              "football        247\n",
              "golf            101\n",
              "hockey           74\n",
              "mma              31\n",
              "netball         109\n",
              "nonsport       1229\n",
              "other_sport     621\n",
              "rugby           205\n",
              "soccer          443\n",
              "tennis          155\n",
              "dtype: int64"
            ]
          },
          "metadata": {},
          "execution_count": 56
        }
      ]
    },
    {
      "cell_type": "markdown",
      "metadata": {
        "id": "yP9rB1-BzR4l"
      },
      "source": [
        "## USE"
      ]
    },
    {
      "cell_type": "code",
      "metadata": {
        "id": "4JF7L36fzuT3"
      },
      "source": [
        "embed = hub.load('https://tfhub.dev/google/universal-sentence-encoder/4')"
      ],
      "execution_count": 57,
      "outputs": []
    },
    {
      "cell_type": "code",
      "metadata": {
        "id": "ARLqDm4g0MuG"
      },
      "source": [
        "embeddings1 = embed(data.text.astype(str)[:4000])\n",
        "embeddings2 = embed(data.text.astype(str)[4000:8000])\n",
        "embeddings3 = embed(data.text.astype(str)[8000:12000])\n",
        "embeddings4 = embed(data.text.astype(str)[12000:16000])\n",
        "embeddings5 = embed(data.text.astype(str)[16000:20000])\n",
        "embeddings6 = embed(data.text.astype(str)[20000:])"
      ],
      "execution_count": 58,
      "outputs": []
    },
    {
      "cell_type": "code",
      "metadata": {
        "id": "e6SXTGAy1Qff"
      },
      "source": [
        "X = np.concatenate((embeddings1, embeddings2, embeddings3, embeddings4, embeddings5, embeddings6))"
      ],
      "execution_count": 59,
      "outputs": []
    },
    {
      "cell_type": "code",
      "metadata": {
        "colab": {
          "base_uri": "https://localhost:8080/"
        },
        "id": "gHsyQwZB0UNR",
        "outputId": "d6b0d0e8-3ebc-4eaa-9461-c0e3891e8325"
      },
      "source": [
        "X.shape"
      ],
      "execution_count": 60,
      "outputs": [
        {
          "output_type": "execute_result",
          "data": {
            "text/plain": [
              "(21594, 512)"
            ]
          },
          "metadata": {},
          "execution_count": 60
        }
      ]
    },
    {
      "cell_type": "markdown",
      "metadata": {
        "id": "JBfxkHYa2KUm"
      },
      "source": [
        "## Train test split"
      ]
    },
    {
      "cell_type": "code",
      "metadata": {
        "colab": {
          "base_uri": "https://localhost:8080/"
        },
        "id": "MQCdj5Dt2Js3",
        "outputId": "b9f9a1f4-6c4c-4577-8e61-956070a45a9e"
      },
      "source": [
        "data_train  = data.loc[data.label.isna()==False,:]\n",
        "X_train = X[data.label.isna()==False]\n",
        "y_train = data.label[data.label.isna()==False]\n",
        "print(data_train.shape, X_train.shape, y_train.shape)"
      ],
      "execution_count": 61,
      "outputs": [
        {
          "output_type": "stream",
          "name": "stdout",
          "text": [
            "(4151, 2) (4151, 512) (4151,)\n"
          ]
        }
      ]
    },
    {
      "cell_type": "code",
      "metadata": {
        "colab": {
          "base_uri": "https://localhost:8080/"
        },
        "id": "0y9emNqU3RGo",
        "outputId": "0a9b5e45-92bf-4153-b52f-68a4ac11d2cf"
      },
      "source": [
        "data_test  = data.loc[data.label.isna(),:]\n",
        "X_test = X[data.label.isna()]\n",
        "y_test = data.label[data.label.isna()]\n",
        "print(data_test.shape, X_test.shape, y_test.shape)"
      ],
      "execution_count": 62,
      "outputs": [
        {
          "output_type": "stream",
          "name": "stdout",
          "text": [
            "(17443, 2) (17443, 512) (17443,)\n"
          ]
        }
      ]
    },
    {
      "cell_type": "markdown",
      "metadata": {
        "id": "oUTti5T23k6G"
      },
      "source": [
        "## KNN"
      ]
    },
    {
      "cell_type": "code",
      "metadata": {
        "id": "idVDOvVC-gk2"
      },
      "source": [
        "knn = KNeighborsClassifier()\n",
        "\n",
        "parameters = {\n",
        "    \"n_neighbors\": np.arange(3, 30, 1)\n",
        "}\n",
        "\n",
        "# Type of scoring used to compare parameter combinations\n",
        "acc_scorer = metrics.make_scorer(metrics.accuracy_score)\n",
        "\n",
        "# Run the grid search\n",
        "grid_obj = GridSearchCV(knn, parameters, scoring=acc_scorer,cv=5)\n",
        "grid_obj = grid_obj.fit(X_train, y_train)"
      ],
      "execution_count": 63,
      "outputs": []
    },
    {
      "cell_type": "code",
      "metadata": {
        "colab": {
          "base_uri": "https://localhost:8080/"
        },
        "id": "F5gX_g53_frX",
        "outputId": "2b366849-69b1-44b5-c172-d6f34d1ebf13"
      },
      "source": [
        "#Best number of neighbours\n",
        "grid_obj.best_params_"
      ],
      "execution_count": 64,
      "outputs": [
        {
          "output_type": "execute_result",
          "data": {
            "text/plain": [
              "{'n_neighbors': 8}"
            ]
          },
          "metadata": {},
          "execution_count": 64
        }
      ]
    },
    {
      "cell_type": "code",
      "metadata": {
        "id": "zQKofubxJ_ws"
      },
      "source": [
        "results = pd.DataFrame(grid_obj.cv_results_ )"
      ],
      "execution_count": 66,
      "outputs": []
    },
    {
      "cell_type": "code",
      "metadata": {
        "colab": {
          "base_uri": "https://localhost:8080/"
        },
        "id": "-NECgpMLqJbk",
        "outputId": "bc2ca345-439c-412e-b651-3d148c8b495b"
      },
      "source": [
        "print('Mean cross-validation accuracy for knn: ',results.loc[results['param_n_neighbors']==8,'mean_test_score'].values[0])"
      ],
      "execution_count": 72,
      "outputs": [
        {
          "output_type": "stream",
          "name": "stdout",
          "text": [
            "Mean cross-validation accuracy for knn:  0.8778556826584316\n"
          ]
        }
      ]
    },
    {
      "cell_type": "code",
      "metadata": {
        "colab": {
          "base_uri": "https://localhost:8080/"
        },
        "id": "_gn0tF4xAfd1",
        "outputId": "e916a489-085d-4b81-8995-b12b0162d626"
      },
      "source": [
        "knn = KNeighborsClassifier(n_neighbors=8)\n",
        "knn.fit(X_train, y_train)"
      ],
      "execution_count": 73,
      "outputs": [
        {
          "output_type": "execute_result",
          "data": {
            "text/plain": [
              "KNeighborsClassifier(algorithm='auto', leaf_size=30, metric='minkowski',\n",
              "                     metric_params=None, n_jobs=None, n_neighbors=8, p=2,\n",
              "                     weights='uniform')"
            ]
          },
          "metadata": {},
          "execution_count": 73
        }
      ]
    },
    {
      "cell_type": "code",
      "metadata": {
        "colab": {
          "base_uri": "https://localhost:8080/"
        },
        "id": "SR4quAmi4TVG",
        "outputId": "5550fdbd-1086-4643-c594-0c9a93834603"
      },
      "source": [
        "knn.score(X_train,y_train)"
      ],
      "execution_count": 74,
      "outputs": [
        {
          "output_type": "execute_result",
          "data": {
            "text/plain": [
              "0.9339918092026018"
            ]
          },
          "metadata": {},
          "execution_count": 74
        }
      ]
    },
    {
      "cell_type": "markdown",
      "metadata": {
        "id": "qDaZAyYEAwPc"
      },
      "source": [
        "## Predict"
      ]
    },
    {
      "cell_type": "code",
      "metadata": {
        "id": "AS4G0bwPAvdW"
      },
      "source": [
        "y_test = knn.predict(X_test)"
      ],
      "execution_count": 75,
      "outputs": []
    },
    {
      "cell_type": "code",
      "metadata": {
        "colab": {
          "base_uri": "https://localhost:8080/"
        },
        "id": "136wAh_6A9az",
        "outputId": "000ff0a0-6f33-46d0-acd1-48225535b15b"
      },
      "source": [
        "y_test[:10]"
      ],
      "execution_count": 76,
      "outputs": [
        {
          "output_type": "execute_result",
          "data": {
            "text/plain": [
              "array(['baseball', 'soccer', 'football', 'baseball', 'football',\n",
              "       'football', 'soccer', 'mma', 'baseball', 'football'], dtype=object)"
            ]
          },
          "metadata": {},
          "execution_count": 76
        }
      ]
    },
    {
      "cell_type": "code",
      "metadata": {
        "colab": {
          "base_uri": "https://localhost:8080/"
        },
        "id": "JhLI4qBEA_m8",
        "outputId": "49bbae4a-3605-4fbf-f2ee-df2a37ca1c63"
      },
      "source": [
        "pd.Series(y_test).value_counts()"
      ],
      "execution_count": 77,
      "outputs": [
        {
          "output_type": "execute_result",
          "data": {
            "text/plain": [
              "other_sport    7065\n",
              "football       1978\n",
              "baseball       1693\n",
              "soccer         1649\n",
              "nonsport       1107\n",
              "cricket         803\n",
              "basketball      770\n",
              "rugby           661\n",
              "boxing          428\n",
              "tennis          336\n",
              "f1              328\n",
              "netball         210\n",
              "golf            175\n",
              "hockey          155\n",
              "mma              85\n",
              "dtype: int64"
            ]
          },
          "metadata": {},
          "execution_count": 77
        }
      ]
    },
    {
      "cell_type": "markdown",
      "metadata": {
        "id": "bCyClaOTKHuT"
      },
      "source": [
        "## Save dataset"
      ]
    },
    {
      "cell_type": "code",
      "metadata": {
        "colab": {
          "base_uri": "https://localhost:8080/"
        },
        "id": "ouMxVGFGK0Lr",
        "outputId": "e5cb6c90-df40-484f-daf5-9e75618a9618"
      },
      "source": [
        "text = np.concatenate((data_train.text,data_test.text))\n",
        "print(text[:2])\n",
        "text.shape"
      ],
      "execution_count": 78,
      "outputs": [
        {
          "output_type": "stream",
          "name": "stdout",
          "text": [
            "['Manchester MMA fighter Brendan Loughnane 21-3-0 takes on Movlid Khaybulaev with dreams of becoming featherweight PFL champion and taking away 1m 730,000 in prize money. Fighters across the featherweight and light heavyweight divisions will be aiming to make it out of the final four and move one step closer to becoming a PFL champion and capturing a life-changing amount of money. Loughnane and Russian Khaybulaev will clash in a featherweight contest on Friday, with each fighter looking for their first PFL Championship berth. Please use Chrome browser for a more accessible video player Brendan Loughnane clinched a spot in the PFL playoffs with a hard fought majority decision over Tyler Diamond \"As mad as it sounds I\\'m not even looking at the money,\" Loughnane told Sky Sports\\' Ed Draper. \"To be a world champion is my goal. \"Money comes and goes in your life and it always will do, but it\\'s all about that piece of gold which I\\'ve worked 13 years to get anywhere near this. I was 70-1 to win this tournament at the beginning and nobody gave me a chance. Here I am, at this stage against the toughest guy in the tournament. \"I want to get all the way through it and beat all the best guys at each stage, which I have done so far, in impressive fashion and I deserve this belt. The money will be a nice cherry on the top.\" Please use Chrome browser for a more accessible video player Relive the most exciting moments of the PFL s 2021 season opener, featuring big wins from Clay Collard, Marcin Held, Bubba Jenkins, and Manchester\\'s Loughnane Loughnane is currently on a seven-fight win-streak and has not lost for four years. He is determined to become the first MMA champion from Manchester. \"We\\'re two fights away from doing that,\" the 31-year-old added.'\n",
            " 'Former PFL women s lightweight champion Kayla Harrison made it through to the 2021 season final with a first-round TKO win over Genah Fabian. Harrison 11-0 is now one step away from her second straight 1 million championship when she goes up against Taylor Guardado. Nicknamed \\'No Mercy\\' Guardado earned her spot in the final by defeating alternate Mariana Morais in Thursday\\'s other 155-pound semi-final. Please use Chrome browser for a more accessible video player PFL\\'s Harrison reacts to Bellator\\'s Cris Cyborg\\'s call out on twitter The final is scheduled for October 27 also at the Seminole Hard Rock Hotel Casino Hollywood. \"I told you: One by one, they\\'re all gonna fall,\" Harrison said, after beating Fabian at four minutes and one second of Round One. \"So doubt me now, but I\\'m gonna show you how great I am.\" Harrison, who has won 2010 World Judo Championships, gold medals at the 2012 and 2016 Olympics, and gold at the 2011 and 2015 Pan American Games, remains unbeaten in her professional MMA career. In the lead-up to her latest fight, she spoke to Sky Sports\\' Ed Draper about life after adopting her niece and nephew.']\n"
          ]
        },
        {
          "output_type": "execute_result",
          "data": {
            "text/plain": [
              "(21594,)"
            ]
          },
          "metadata": {},
          "execution_count": 78
        }
      ]
    },
    {
      "cell_type": "code",
      "metadata": {
        "colab": {
          "base_uri": "https://localhost:8080/"
        },
        "id": "2wix4YDwLc4s",
        "outputId": "54b1d364-8348-4b1c-b606-ccd3aa8d6a7f"
      },
      "source": [
        "lab = np.concatenate((y_train, y_test))\n",
        "print(lab[:10])\n",
        "lab.shape"
      ],
      "execution_count": 79,
      "outputs": [
        {
          "output_type": "stream",
          "name": "stdout",
          "text": [
            "['mma' 'mma' 'mma' 'mma' 'mma' 'mma' 'mma' 'mma' 'mma' 'mma']\n"
          ]
        },
        {
          "output_type": "execute_result",
          "data": {
            "text/plain": [
              "(21594,)"
            ]
          },
          "metadata": {},
          "execution_count": 79
        }
      ]
    },
    {
      "cell_type": "code",
      "metadata": {
        "colab": {
          "base_uri": "https://localhost:8080/",
          "height": 206
        },
        "id": "z11DWF-AMJND",
        "outputId": "8d1037da-847f-45b8-aa63-15991bd0f5c0"
      },
      "source": [
        "final = pd.DataFrame()\n",
        "final['text'] = text\n",
        "final['label'] = lab\n",
        "final.head()"
      ],
      "execution_count": 80,
      "outputs": [
        {
          "output_type": "execute_result",
          "data": {
            "text/html": [
              "<div>\n",
              "<style scoped>\n",
              "    .dataframe tbody tr th:only-of-type {\n",
              "        vertical-align: middle;\n",
              "    }\n",
              "\n",
              "    .dataframe tbody tr th {\n",
              "        vertical-align: top;\n",
              "    }\n",
              "\n",
              "    .dataframe thead th {\n",
              "        text-align: right;\n",
              "    }\n",
              "</style>\n",
              "<table border=\"1\" class=\"dataframe\">\n",
              "  <thead>\n",
              "    <tr style=\"text-align: right;\">\n",
              "      <th></th>\n",
              "      <th>text</th>\n",
              "      <th>label</th>\n",
              "    </tr>\n",
              "  </thead>\n",
              "  <tbody>\n",
              "    <tr>\n",
              "      <th>0</th>\n",
              "      <td>Manchester MMA fighter Brendan Loughnane 21-3-...</td>\n",
              "      <td>mma</td>\n",
              "    </tr>\n",
              "    <tr>\n",
              "      <th>1</th>\n",
              "      <td>Former PFL women s lightweight champion Kayla ...</td>\n",
              "      <td>mma</td>\n",
              "    </tr>\n",
              "    <tr>\n",
              "      <th>2</th>\n",
              "      <td>Kayla Harrison is a perfectionist inside the c...</td>\n",
              "      <td>mma</td>\n",
              "    </tr>\n",
              "    <tr>\n",
              "      <th>3</th>\n",
              "      <td>Ciryl Gane stopped Derrick Lewis with a flurry...</td>\n",
              "      <td>mma</td>\n",
              "    </tr>\n",
              "    <tr>\n",
              "      <th>4</th>\n",
              "      <td>As Manchester's featherweight contender Brenda...</td>\n",
              "      <td>mma</td>\n",
              "    </tr>\n",
              "  </tbody>\n",
              "</table>\n",
              "</div>"
            ],
            "text/plain": [
              "                                                text label\n",
              "0  Manchester MMA fighter Brendan Loughnane 21-3-...   mma\n",
              "1  Former PFL women s lightweight champion Kayla ...   mma\n",
              "2  Kayla Harrison is a perfectionist inside the c...   mma\n",
              "3  Ciryl Gane stopped Derrick Lewis with a flurry...   mma\n",
              "4  As Manchester's featherweight contender Brenda...   mma"
            ]
          },
          "metadata": {},
          "execution_count": 80
        }
      ]
    },
    {
      "cell_type": "code",
      "metadata": {
        "colab": {
          "base_uri": "https://localhost:8080/"
        },
        "id": "Z5CpI-oqMWXD",
        "outputId": "ef4e4183-bff2-4d61-ff28-e73b44c41592"
      },
      "source": [
        "final.shape"
      ],
      "execution_count": 81,
      "outputs": [
        {
          "output_type": "execute_result",
          "data": {
            "text/plain": [
              "(21594, 2)"
            ]
          },
          "metadata": {},
          "execution_count": 81
        }
      ]
    },
    {
      "cell_type": "code",
      "metadata": {
        "colab": {
          "base_uri": "https://localhost:8080/"
        },
        "id": "gwd3iDdRMYPS",
        "outputId": "4a848fd7-0020-4e42-e478-0938cc067838"
      },
      "source": [
        "final.groupby('label').size()"
      ],
      "execution_count": 82,
      "outputs": [
        {
          "output_type": "execute_result",
          "data": {
            "text/plain": [
              "label\n",
              "baseball       1965\n",
              "basketball      928\n",
              "boxing          563\n",
              "cricket        1044\n",
              "f1              458\n",
              "football       2225\n",
              "golf            276\n",
              "hockey          229\n",
              "mma             116\n",
              "netball         319\n",
              "nonsport       2336\n",
              "other_sport    7686\n",
              "rugby           866\n",
              "soccer         2092\n",
              "tennis          491\n",
              "dtype: int64"
            ]
          },
          "metadata": {},
          "execution_count": 82
        }
      ]
    },
    {
      "cell_type": "code",
      "metadata": {
        "id": "Rgfw9OiNMew0"
      },
      "source": [
        "final.to_csv('/content/drive/MyDrive/Labelled_text.csv',index=False)"
      ],
      "execution_count": 85,
      "outputs": []
    }
  ]
}