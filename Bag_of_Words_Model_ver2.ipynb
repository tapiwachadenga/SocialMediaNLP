{
  "nbformat": 4,
  "nbformat_minor": 0,
  "metadata": {
    "colab": {
      "name": "Bag of Words - Model_ver2.ipynb",
      "provenance": [],
      "collapsed_sections": [],
      "toc_visible": true
    },
    "kernelspec": {
      "name": "python3",
      "display_name": "Python 3"
    },
    "language_info": {
      "name": "python"
    }
  },
  "cells": [
    {
      "cell_type": "markdown",
      "metadata": {
        "id": "unAQ34FbOUMv"
      },
      "source": [
        "# Sport in Social Media - Classification model based on bags of words"
      ]
    },
    {
      "cell_type": "markdown",
      "metadata": {
        "id": "9_-Quz96Orlc"
      },
      "source": [
        "For this notebook I assume already cleaned data."
      ]
    },
    {
      "cell_type": "markdown",
      "metadata": {
        "id": "wNu6kG3OPIdM"
      },
      "source": [
        "## Load libraries"
      ]
    },
    {
      "cell_type": "code",
      "metadata": {
        "id": "5TwUZP52PMel",
        "colab": {
          "base_uri": "https://localhost:8080/"
        },
        "outputId": "54abde47-39b2-430f-fe8f-a448e2bcf24b"
      },
      "source": [
        "import pandas as pd\n",
        "import numpy as np\n",
        "\n",
        "import nltk\n",
        "from nltk.corpus import stopwords\n",
        "import string\n",
        "import re\n",
        "from nltk.stem.porter import PorterStemmer\n",
        "\n",
        "from sklearn.preprocessing import LabelBinarizer\n",
        "from sklearn.feature_extraction.text import TfidfVectorizer\n",
        "from sklearn.model_selection import train_test_split\n",
        "from imblearn.over_sampling import RandomOverSampler\n",
        "from imblearn.under_sampling import RandomUnderSampler\n",
        "\n",
        "from sklearn.ensemble import RandomForestClassifier\n",
        "from sklearn.model_selection import cross_val_score\n",
        "from sklearn.metrics import cohen_kappa_score, accuracy_score, confusion_matrix\n",
        "\n",
        "import matplotlib.pyplot as plt\n",
        "import seaborn as sns"
      ],
      "execution_count": 1,
      "outputs": [
        {
          "output_type": "stream",
          "name": "stderr",
          "text": [
            "/usr/local/lib/python3.7/dist-packages/sklearn/externals/six.py:31: FutureWarning: The module is deprecated in version 0.21 and will be removed in version 0.23 since we've dropped support for Python 2.7. Please rely on the official version of six (https://pypi.org/project/six/).\n",
            "  \"(https://pypi.org/project/six/).\", FutureWarning)\n",
            "/usr/local/lib/python3.7/dist-packages/sklearn/utils/deprecation.py:144: FutureWarning: The sklearn.neighbors.base module is  deprecated in version 0.22 and will be removed in version 0.24. The corresponding classes / functions should instead be imported from sklearn.neighbors. Anything that cannot be imported from sklearn.neighbors is now part of the private API.\n",
            "  warnings.warn(message, FutureWarning)\n"
          ]
        }
      ]
    },
    {
      "cell_type": "markdown",
      "metadata": {
        "id": "uveWjfuVRBcc"
      },
      "source": [
        "## EDA and preparation of dataset"
      ]
    },
    {
      "cell_type": "markdown",
      "metadata": {
        "id": "ebZrTcLXOl_2"
      },
      "source": [
        "### Load and preview dataset"
      ]
    },
    {
      "cell_type": "code",
      "metadata": {
        "colab": {
          "base_uri": "https://localhost:8080/",
          "height": 206
        },
        "id": "fDk2q7tSOSlC",
        "outputId": "f8fc5f74-3411-41d0-da3e-09fd47ec34be"
      },
      "source": [
        "data = pd.read_csv('/content/drive/MyDrive/Assignments/NLP - Social Media/Labelled_text.csv')\n",
        "data.head()"
      ],
      "execution_count": 7,
      "outputs": [
        {
          "output_type": "execute_result",
          "data": {
            "text/html": [
              "<div>\n",
              "<style scoped>\n",
              "    .dataframe tbody tr th:only-of-type {\n",
              "        vertical-align: middle;\n",
              "    }\n",
              "\n",
              "    .dataframe tbody tr th {\n",
              "        vertical-align: top;\n",
              "    }\n",
              "\n",
              "    .dataframe thead th {\n",
              "        text-align: right;\n",
              "    }\n",
              "</style>\n",
              "<table border=\"1\" class=\"dataframe\">\n",
              "  <thead>\n",
              "    <tr style=\"text-align: right;\">\n",
              "      <th></th>\n",
              "      <th>text</th>\n",
              "      <th>label</th>\n",
              "    </tr>\n",
              "  </thead>\n",
              "  <tbody>\n",
              "    <tr>\n",
              "      <th>0</th>\n",
              "      <td>Manchester MMA fighter Brendan Loughnane 21-3-...</td>\n",
              "      <td>mma</td>\n",
              "    </tr>\n",
              "    <tr>\n",
              "      <th>1</th>\n",
              "      <td>Former PFL women s lightweight champion Kayla ...</td>\n",
              "      <td>mma</td>\n",
              "    </tr>\n",
              "    <tr>\n",
              "      <th>2</th>\n",
              "      <td>Kayla Harrison is a perfectionist inside the c...</td>\n",
              "      <td>mma</td>\n",
              "    </tr>\n",
              "    <tr>\n",
              "      <th>3</th>\n",
              "      <td>Ciryl Gane stopped Derrick Lewis with a flurry...</td>\n",
              "      <td>mma</td>\n",
              "    </tr>\n",
              "    <tr>\n",
              "      <th>4</th>\n",
              "      <td>As Manchester's featherweight contender Brenda...</td>\n",
              "      <td>mma</td>\n",
              "    </tr>\n",
              "  </tbody>\n",
              "</table>\n",
              "</div>"
            ],
            "text/plain": [
              "                                                text label\n",
              "0  Manchester MMA fighter Brendan Loughnane 21-3-...   mma\n",
              "1  Former PFL women s lightweight champion Kayla ...   mma\n",
              "2  Kayla Harrison is a perfectionist inside the c...   mma\n",
              "3  Ciryl Gane stopped Derrick Lewis with a flurry...   mma\n",
              "4  As Manchester's featherweight contender Brenda...   mma"
            ]
          },
          "metadata": {},
          "execution_count": 7
        }
      ]
    },
    {
      "cell_type": "code",
      "metadata": {
        "colab": {
          "base_uri": "https://localhost:8080/"
        },
        "id": "a0w0BUCCQGb-",
        "outputId": "39a8c6ef-762b-4b59-dcf6-eaaa7e5ce750"
      },
      "source": [
        "data.shape"
      ],
      "execution_count": 8,
      "outputs": [
        {
          "output_type": "execute_result",
          "data": {
            "text/plain": [
              "(21594, 2)"
            ]
          },
          "metadata": {},
          "execution_count": 8
        }
      ]
    },
    {
      "cell_type": "markdown",
      "metadata": {
        "id": "hEgPkCUzPneY"
      },
      "source": [
        "### Remove rows with na values if any"
      ]
    },
    {
      "cell_type": "code",
      "metadata": {
        "colab": {
          "base_uri": "https://localhost:8080/"
        },
        "id": "NUe_aunNupfI",
        "outputId": "3dd2299e-e239-4d65-fcee-124c92eab156"
      },
      "source": [
        "data.isna().sum(axis=0)"
      ],
      "execution_count": 11,
      "outputs": [
        {
          "output_type": "execute_result",
          "data": {
            "text/plain": [
              "text     17\n",
              "label     0\n",
              "dtype: int64"
            ]
          },
          "metadata": {},
          "execution_count": 11
        }
      ]
    },
    {
      "cell_type": "code",
      "metadata": {
        "id": "BLkebeEsPl4N"
      },
      "source": [
        "data.dropna(inplace=True)"
      ],
      "execution_count": 12,
      "outputs": []
    },
    {
      "cell_type": "code",
      "metadata": {
        "colab": {
          "base_uri": "https://localhost:8080/",
          "height": 225
        },
        "id": "PirKUUSZP_jc",
        "outputId": "fc28bc5d-6ab7-463a-81a3-dbe05d3138ef"
      },
      "source": [
        "print(data.shape)\n",
        "data.head()"
      ],
      "execution_count": 13,
      "outputs": [
        {
          "output_type": "stream",
          "name": "stdout",
          "text": [
            "(21577, 2)\n"
          ]
        },
        {
          "output_type": "execute_result",
          "data": {
            "text/html": [
              "<div>\n",
              "<style scoped>\n",
              "    .dataframe tbody tr th:only-of-type {\n",
              "        vertical-align: middle;\n",
              "    }\n",
              "\n",
              "    .dataframe tbody tr th {\n",
              "        vertical-align: top;\n",
              "    }\n",
              "\n",
              "    .dataframe thead th {\n",
              "        text-align: right;\n",
              "    }\n",
              "</style>\n",
              "<table border=\"1\" class=\"dataframe\">\n",
              "  <thead>\n",
              "    <tr style=\"text-align: right;\">\n",
              "      <th></th>\n",
              "      <th>text</th>\n",
              "      <th>label</th>\n",
              "    </tr>\n",
              "  </thead>\n",
              "  <tbody>\n",
              "    <tr>\n",
              "      <th>0</th>\n",
              "      <td>Manchester MMA fighter Brendan Loughnane 21-3-...</td>\n",
              "      <td>mma</td>\n",
              "    </tr>\n",
              "    <tr>\n",
              "      <th>1</th>\n",
              "      <td>Former PFL women s lightweight champion Kayla ...</td>\n",
              "      <td>mma</td>\n",
              "    </tr>\n",
              "    <tr>\n",
              "      <th>2</th>\n",
              "      <td>Kayla Harrison is a perfectionist inside the c...</td>\n",
              "      <td>mma</td>\n",
              "    </tr>\n",
              "    <tr>\n",
              "      <th>3</th>\n",
              "      <td>Ciryl Gane stopped Derrick Lewis with a flurry...</td>\n",
              "      <td>mma</td>\n",
              "    </tr>\n",
              "    <tr>\n",
              "      <th>4</th>\n",
              "      <td>As Manchester's featherweight contender Brenda...</td>\n",
              "      <td>mma</td>\n",
              "    </tr>\n",
              "  </tbody>\n",
              "</table>\n",
              "</div>"
            ],
            "text/plain": [
              "                                                text label\n",
              "0  Manchester MMA fighter Brendan Loughnane 21-3-...   mma\n",
              "1  Former PFL women s lightweight champion Kayla ...   mma\n",
              "2  Kayla Harrison is a perfectionist inside the c...   mma\n",
              "3  Ciryl Gane stopped Derrick Lewis with a flurry...   mma\n",
              "4  As Manchester's featherweight contender Brenda...   mma"
            ]
          },
          "metadata": {},
          "execution_count": 13
        }
      ]
    },
    {
      "cell_type": "markdown",
      "metadata": {
        "id": "RQ_WZELyQRhH"
      },
      "source": [
        "### Look at response "
      ]
    },
    {
      "cell_type": "code",
      "metadata": {
        "colab": {
          "base_uri": "https://localhost:8080/"
        },
        "id": "0ER-5mMbQU6g",
        "outputId": "76be1d05-8790-458d-bce4-3bdcd9264a63"
      },
      "source": [
        "data.groupby('label').size()"
      ],
      "execution_count": 16,
      "outputs": [
        {
          "output_type": "execute_result",
          "data": {
            "text/plain": [
              "label\n",
              "baseball       1965\n",
              "basketball      928\n",
              "boxing          563\n",
              "cricket        1044\n",
              "f1              458\n",
              "football       2225\n",
              "golf            276\n",
              "hockey          229\n",
              "mma             116\n",
              "netball         319\n",
              "nonsport       2336\n",
              "other_sport    7686\n",
              "rugby           866\n",
              "soccer         2075\n",
              "tennis          491\n",
              "dtype: int64"
            ]
          },
          "metadata": {},
          "execution_count": 16
        }
      ]
    },
    {
      "cell_type": "code",
      "metadata": {
        "colab": {
          "base_uri": "https://localhost:8080/"
        },
        "id": "KscNGsOlT3KZ",
        "outputId": "bfb59b37-6c76-4c55-fac3-c458a92f8ed1"
      },
      "source": [
        "data.label.nunique()"
      ],
      "execution_count": 17,
      "outputs": [
        {
          "output_type": "execute_result",
          "data": {
            "text/plain": [
              "15"
            ]
          },
          "metadata": {},
          "execution_count": 17
        }
      ]
    },
    {
      "cell_type": "markdown",
      "metadata": {
        "id": "4zB6E4P6RIjL"
      },
      "source": [
        "## Prepare data for analysis"
      ]
    },
    {
      "cell_type": "markdown",
      "metadata": {
        "id": "v0vyaIGYRVJ7"
      },
      "source": [
        "### Preproces text"
      ]
    },
    {
      "cell_type": "code",
      "metadata": {
        "colab": {
          "base_uri": "https://localhost:8080/"
        },
        "id": "GoiH3JQBRjFl",
        "outputId": "3dbb0e49-c496-47b1-9917-99b7548fbe8b"
      },
      "source": [
        "nltk.download('stopwords');\n",
        "stop_words = stopwords.words('english')\n",
        "porter = PorterStemmer()\n",
        "\n",
        "def preprocess_text(text):\n",
        "  text = re.sub(r'https?:\\/\\/.*[\\r\\n]*','',text)\n",
        "  text = text.lower()\n",
        "  text = \"\".join([char for char in text if char not in string.punctuation])\n",
        "  text = \" \".join([porter.stem(token) for token in text.split() if token not in stop_words])\n",
        "  text = \"\".join([char for char in text if char.isalpha() or char==' ']) \n",
        "  return text"
      ],
      "execution_count": 18,
      "outputs": [
        {
          "output_type": "stream",
          "name": "stdout",
          "text": [
            "[nltk_data] Downloading package stopwords to /root/nltk_data...\n",
            "[nltk_data]   Unzipping corpora/stopwords.zip.\n"
          ]
        }
      ]
    },
    {
      "cell_type": "code",
      "metadata": {
        "id": "DMZoxl1_RnPT"
      },
      "source": [
        "preprocessed_text=data.text.apply(preprocess_text)"
      ],
      "execution_count": 19,
      "outputs": []
    },
    {
      "cell_type": "code",
      "metadata": {
        "colab": {
          "base_uri": "https://localhost:8080/",
          "height": 148
        },
        "id": "YZJarI8BScUr",
        "outputId": "768fa402-f848-4aef-d040-6067ef09fff4"
      },
      "source": [
        "preprocessed_text[0]"
      ],
      "execution_count": 20,
      "outputs": [
        {
          "output_type": "execute_result",
          "data": {
            "application/vnd.google.colaboratory.intrinsic+json": {
              "type": "string"
            },
            "text/plain": [
              "'manchest mma fighter brendan loughnan  take movlid khaybulaev dream becom featherweight pfl champion take away m  prize money fighter across featherweight light heavyweight divis aim make final four move one step closer becom pfl champion captur lifechang amount money loughnan russian khaybulaev clash featherweight contest friday fighter look first pfl championship berth pleas use chrome browser access video player brendan loughnan clinch spot pfl playoff hard fought major decis tyler diamond mad sound im even look money loughnan told sky sport ed draper world champion goal money come goe life alway piec gold ive work  year get anywher near  win tournament begin nobodi gave chanc stage toughest guy tournament want get way beat best guy stage done far impress fashion deserv belt money nice cherri top pleas use chrome browser access video player reliv excit moment pfl  season open featur big win clay collard marcin held bubba jenkin manchest loughnan loughnan current sevenfight winstreak lost four year determin becom first mma champion manchest two fight away yearold ad'"
            ]
          },
          "metadata": {},
          "execution_count": 20
        }
      ]
    },
    {
      "cell_type": "code",
      "metadata": {
        "colab": {
          "base_uri": "https://localhost:8080/",
          "height": 148
        },
        "id": "mMlSHqR8Shds",
        "outputId": "f05987fc-9b8d-49e2-eba6-d2b9a0a984aa"
      },
      "source": [
        "data.text[0]"
      ],
      "execution_count": 21,
      "outputs": [
        {
          "output_type": "execute_result",
          "data": {
            "application/vnd.google.colaboratory.intrinsic+json": {
              "type": "string"
            },
            "text/plain": [
              "'Manchester MMA fighter Brendan Loughnane 21-3-0 takes on Movlid Khaybulaev with dreams of becoming featherweight PFL champion and taking away 1m 730,000 in prize money. Fighters across the featherweight and light heavyweight divisions will be aiming to make it out of the final four and move one step closer to becoming a PFL champion and capturing a life-changing amount of money. Loughnane and Russian Khaybulaev will clash in a featherweight contest on Friday, with each fighter looking for their first PFL Championship berth. Please use Chrome browser for a more accessible video player Brendan Loughnane clinched a spot in the PFL playoffs with a hard fought majority decision over Tyler Diamond \"As mad as it sounds I\\'m not even looking at the money,\" Loughnane told Sky Sports\\' Ed Draper. \"To be a world champion is my goal. \"Money comes and goes in your life and it always will do, but it\\'s all about that piece of gold which I\\'ve worked 13 years to get anywhere near this. I was 70-1 to win this tournament at the beginning and nobody gave me a chance. Here I am, at this stage against the toughest guy in the tournament. \"I want to get all the way through it and beat all the best guys at each stage, which I have done so far, in impressive fashion and I deserve this belt. The money will be a nice cherry on the top.\" Please use Chrome browser for a more accessible video player Relive the most exciting moments of the PFL s 2021 season opener, featuring big wins from Clay Collard, Marcin Held, Bubba Jenkins, and Manchester\\'s Loughnane Loughnane is currently on a seven-fight win-streak and has not lost for four years. He is determined to become the first MMA champion from Manchester. \"We\\'re two fights away from doing that,\" the 31-year-old added.'"
            ]
          },
          "metadata": {},
          "execution_count": 21
        }
      ]
    },
    {
      "cell_type": "code",
      "metadata": {
        "id": "su6Q1NU-SpCr"
      },
      "source": [
        "data['text'] = preprocessed_text"
      ],
      "execution_count": 22,
      "outputs": []
    },
    {
      "cell_type": "markdown",
      "metadata": {
        "id": "UYNGOjAfSwGb"
      },
      "source": [
        "### Encode response"
      ]
    },
    {
      "cell_type": "code",
      "metadata": {
        "id": "7Ito-iQTTa0E"
      },
      "source": [
        "lb = LabelBinarizer()\n",
        "y = lb.fit_transform(data.label)"
      ],
      "execution_count": 23,
      "outputs": []
    },
    {
      "cell_type": "code",
      "metadata": {
        "colab": {
          "base_uri": "https://localhost:8080/"
        },
        "id": "7MyHMSSnVqxh",
        "outputId": "2ac8ffe8-e336-484b-fb9a-6660f2506adf"
      },
      "source": [
        "y_labels = lb.classes_\n",
        "y_labels"
      ],
      "execution_count": 24,
      "outputs": [
        {
          "output_type": "execute_result",
          "data": {
            "text/plain": [
              "array(['baseball', 'basketball', 'boxing', 'cricket', 'f1', 'football',\n",
              "       'golf', 'hockey', 'mma', 'netball', 'nonsport', 'other_sport',\n",
              "       'rugby', 'soccer', 'tennis'], dtype='<U11')"
            ]
          },
          "metadata": {},
          "execution_count": 24
        }
      ]
    },
    {
      "cell_type": "markdown",
      "metadata": {
        "id": "r878DrgBYHOJ"
      },
      "source": [
        "### Split data into train and test"
      ]
    },
    {
      "cell_type": "code",
      "metadata": {
        "id": "SJKoD8F7ZxEd"
      },
      "source": [
        "X_train, X_test, y_train, y_test = train_test_split(data.text,y, test_size=0.2, random_state=1,stratify=y)"
      ],
      "execution_count": 25,
      "outputs": []
    },
    {
      "cell_type": "markdown",
      "metadata": {
        "id": "PzErTCM-T_9O"
      },
      "source": [
        "### Create Bag of Word"
      ]
    },
    {
      "cell_type": "code",
      "metadata": {
        "id": "FqhU6gknUERa",
        "colab": {
          "base_uri": "https://localhost:8080/"
        },
        "outputId": "c59aadbf-0244-47c7-d329-3c66a1f5e6de"
      },
      "source": [
        "vectorizer = TfidfVectorizer(max_df=0.5, min_df=3)\n",
        "vectorizer.fit(X_train)"
      ],
      "execution_count": 26,
      "outputs": [
        {
          "output_type": "execute_result",
          "data": {
            "text/plain": [
              "TfidfVectorizer(analyzer='word', binary=False, decode_error='strict',\n",
              "                dtype=<class 'numpy.float64'>, encoding='utf-8',\n",
              "                input='content', lowercase=True, max_df=0.5, max_features=None,\n",
              "                min_df=3, ngram_range=(1, 1), norm='l2', preprocessor=None,\n",
              "                smooth_idf=True, stop_words=None, strip_accents=None,\n",
              "                sublinear_tf=False, token_pattern='(?u)\\\\b\\\\w\\\\w+\\\\b',\n",
              "                tokenizer=None, use_idf=True, vocabulary=None)"
            ]
          },
          "metadata": {},
          "execution_count": 26
        }
      ]
    },
    {
      "cell_type": "code",
      "metadata": {
        "id": "1b2Ixo799sH7"
      },
      "source": [
        "X_train = vectorizer.transform(X_train)\n",
        "X_test = vectorizer.transform(X_test)"
      ],
      "execution_count": 27,
      "outputs": []
    },
    {
      "cell_type": "code",
      "metadata": {
        "colab": {
          "base_uri": "https://localhost:8080/"
        },
        "id": "yvZuaVZPXdaJ",
        "outputId": "f1efe803-930b-40d7-b9ed-408e8492170f"
      },
      "source": [
        "print(vectorizer.get_feature_names()[:10])"
      ],
      "execution_count": 28,
      "outputs": [
        {
          "output_type": "stream",
          "name": "stdout",
          "text": [
            "['aaa', 'aac', 'aadvantag', 'aaefafffae', 'aap', 'aaron', 'ab', 'abandon', 'abba', 'abbatar']\n"
          ]
        }
      ]
    },
    {
      "cell_type": "code",
      "metadata": {
        "colab": {
          "base_uri": "https://localhost:8080/"
        },
        "id": "_xMvTMOtXd76",
        "outputId": "13622b5b-d389-4aa4-f8c4-81c8d314f6b3"
      },
      "source": [
        "print(X_train.shape)"
      ],
      "execution_count": 29,
      "outputs": [
        {
          "output_type": "stream",
          "name": "stdout",
          "text": [
            "(17261, 14824)\n"
          ]
        }
      ]
    },
    {
      "cell_type": "code",
      "metadata": {
        "id": "BMyiaJgbZHci"
      },
      "source": [
        "z=X_train[1, :].toarray().flatten().tolist()"
      ],
      "execution_count": 30,
      "outputs": []
    },
    {
      "cell_type": "code",
      "metadata": {
        "colab": {
          "base_uri": "https://localhost:8080/"
        },
        "id": "h8dst52lYmKr",
        "outputId": "6c689c6c-81ea-43fb-87f6-6ea678ecd92c"
      },
      "source": [
        "x = [i for i in z if i > 0]\n",
        "x[:10]"
      ],
      "execution_count": 31,
      "outputs": [
        {
          "output_type": "execute_result",
          "data": {
            "text/plain": [
              "[0.22102628941609276,\n",
              " 0.40075651237704674,\n",
              " 0.2610491194413522,\n",
              " 0.1810271538459755,\n",
              " 0.30782321003526575,\n",
              " 0.40075651237704674,\n",
              " 0.22453201513905682,\n",
              " 0.26964462040671877,\n",
              " 0.25230623074747316,\n",
              " 0.28309577422537496]"
            ]
          },
          "metadata": {},
          "execution_count": 31
        }
      ]
    },
    {
      "cell_type": "markdown",
      "metadata": {
        "id": "dhpCmY_HZqUI"
      },
      "source": [
        "### Balance dataset"
      ]
    },
    {
      "cell_type": "code",
      "metadata": {
        "id": "M8Ui4wzAYLP5",
        "colab": {
          "base_uri": "https://localhost:8080/"
        },
        "outputId": "3eb816bf-a566-44bc-a578-768c382b381d"
      },
      "source": [
        "ros = RandomOverSampler(random_state=1)\n",
        "X_train_over, y_train_over = ros.fit_resample(X_train,y_train)\n",
        "X_test_over, y_test_over = ros.fit_resample(X_test,y_test)\n",
        "\n",
        "rus = RandomUnderSampler(random_state=1)\n",
        "X_train_under, y_train_under = rus.fit_resample(X_train,y_train)\n",
        "X_test_under, y_test_under = rus.fit_resample(X_test,y_test)"
      ],
      "execution_count": 43,
      "outputs": [
        {
          "output_type": "stream",
          "name": "stderr",
          "text": [
            "/usr/local/lib/python3.7/dist-packages/sklearn/utils/deprecation.py:87: FutureWarning: Function safe_indexing is deprecated; safe_indexing is deprecated in version 0.22 and will be removed in version 0.24.\n",
            "  warnings.warn(msg, category=FutureWarning)\n",
            "/usr/local/lib/python3.7/dist-packages/sklearn/utils/deprecation.py:87: FutureWarning: Function safe_indexing is deprecated; safe_indexing is deprecated in version 0.22 and will be removed in version 0.24.\n",
            "  warnings.warn(msg, category=FutureWarning)\n",
            "/usr/local/lib/python3.7/dist-packages/sklearn/utils/deprecation.py:87: FutureWarning: Function safe_indexing is deprecated; safe_indexing is deprecated in version 0.22 and will be removed in version 0.24.\n",
            "  warnings.warn(msg, category=FutureWarning)\n",
            "/usr/local/lib/python3.7/dist-packages/sklearn/utils/deprecation.py:87: FutureWarning: Function safe_indexing is deprecated; safe_indexing is deprecated in version 0.22 and will be removed in version 0.24.\n",
            "  warnings.warn(msg, category=FutureWarning)\n"
          ]
        }
      ]
    },
    {
      "cell_type": "code",
      "metadata": {
        "colab": {
          "base_uri": "https://localhost:8080/"
        },
        "id": "ySYT-gCWm-2m",
        "outputId": "f40ac989-5c5c-40ee-ee33-a2a063558d41"
      },
      "source": [
        "print(X_train_over.shape, y_train_over.shape, X_test_over.shape, y_test_over.shape)\n",
        "print(X_train_under.shape, y_train_under.shape, X_test_under.shape, y_test_under.shape)"
      ],
      "execution_count": 44,
      "outputs": [
        {
          "output_type": "stream",
          "name": "stdout",
          "text": [
            "(92235, 14824) (92235, 15) (23055, 14824) (23055, 15)\n",
            "(1395, 14824) (1395, 15) (345, 14824) (345, 15)\n"
          ]
        }
      ]
    },
    {
      "cell_type": "markdown",
      "metadata": {
        "id": "O5sRwx0-no1z"
      },
      "source": [
        "## Create models"
      ]
    },
    {
      "cell_type": "code",
      "metadata": {
        "id": "1wsI-sdDGqmO"
      },
      "source": [
        "def print_metrics(model, X_train, y_train, X_test, y_test, X_test_balanced = None, y_test_balanced = None):\n",
        "  dic = {}\n",
        "  cv = np.mean(cross_val_score(model, X_train, y_train, cv = 5))\n",
        "  dic['cv'] = cv\n",
        "  print('Cross- Validation score: ', cv)\n",
        "  dic['acc_b'] = None\n",
        "  if X_test_balanced is not None and y_test_balanced is not None:\n",
        "    acc_b = accuracy_score(y_test_balanced.argmax(axis=1),model.predict(X_test_balanced).argmax(axis=1))\n",
        "    dic['acc_b'] = acc_b\n",
        "    print('Accuracy on balanced test data: ', acc_b)\n",
        "  acc = accuracy_score(y_test.argmax(axis=1),model.predict(X_test).argmax(axis=1))\n",
        "  dic['acc'] = acc\n",
        "  print('Accuracy on test data: ', acc)\n",
        "  kappa = cohen_kappa_score(y_test.argmax(axis=1),model.predict(X_test).argmax(axis=1))\n",
        "  dic['kappa'] = kappa\n",
        "  print('Kappa on test data: ', kappa)\n",
        "  return dic"
      ],
      "execution_count": 37,
      "outputs": []
    },
    {
      "cell_type": "markdown",
      "metadata": {
        "id": "UHFC06qFt8ox"
      },
      "source": [
        "### Undersampled data"
      ]
    },
    {
      "cell_type": "code",
      "metadata": {
        "colab": {
          "base_uri": "https://localhost:8080/"
        },
        "id": "HuXqATMenroW",
        "outputId": "cbd88fa0-b4d6-4f70-a1c9-866d34bd6fa9"
      },
      "source": [
        "clf_u = RandomForestClassifier(n_estimators=100, random_state=1)\n",
        "clf_u.fit(X_train_under, y_train_under)\n",
        "\n",
        "metrics_under = print_metrics(clf_u, X_train_under, y_train_under, X_test, y_test, X_test_under, y_test_under)"
      ],
      "execution_count": 45,
      "outputs": [
        {
          "output_type": "stream",
          "name": "stdout",
          "text": [
            "Cross- Validation score:  0.0\n",
            "Accuracy on balanced test data:  0.2753623188405797\n",
            "Accuracy on test data:  0.211306765523633\n",
            "Kappa on test data:  0.12855920114122676\n"
          ]
        }
      ]
    },
    {
      "cell_type": "markdown",
      "metadata": {
        "id": "vhV_skCeuEOR"
      },
      "source": [
        "### Oversampled data"
      ]
    },
    {
      "cell_type": "code",
      "metadata": {
        "colab": {
          "base_uri": "https://localhost:8080/"
        },
        "id": "48cUbOpWrbcR",
        "outputId": "34101635-e58d-4a84-ac98-ecd77bd9afd1"
      },
      "source": [
        "clf_o = RandomForestClassifier(n_estimators=100, random_state=1)\n",
        "clf_o.fit(X_train_over, y_train_over)\n",
        "\n",
        "metrics_over = print_metrics(clf_o, X_train_over, y_train_over, X_test, y_test, X_test_over, y_test_over)"
      ],
      "execution_count": 46,
      "outputs": [
        {
          "output_type": "stream",
          "name": "stdout",
          "text": [
            "Cross- Validation score:  0.9219927359462243\n",
            "Accuracy on balanced test data:  0.43057905009759273\n",
            "Accuracy on test data:  0.5108897126969416\n",
            "Kappa on test data:  0.4203750067991334\n"
          ]
        }
      ]
    },
    {
      "cell_type": "markdown",
      "metadata": {
        "id": "ulNvLVmXuIYi"
      },
      "source": [
        "### Original data"
      ]
    },
    {
      "cell_type": "code",
      "metadata": {
        "colab": {
          "base_uri": "https://localhost:8080/"
        },
        "id": "pLq8mYbirs46",
        "outputId": "ef55175b-a0a6-47b3-a3c9-4def56d1b14b"
      },
      "source": [
        "clf = RandomForestClassifier(n_estimators=100, random_state=1)\n",
        "clf.fit(X_train, y_train)\n",
        "\n",
        "metrics_original = print_metrics(clf, X_train, y_train, X_test, y_test)"
      ],
      "execution_count": 47,
      "outputs": [
        {
          "output_type": "stream",
          "name": "stdout",
          "text": [
            "Cross- Validation score:  0.4811426509066125\n",
            "Accuracy on test data:  0.5382298424467099\n",
            "Kappa on test data:  0.42838262519456705\n"
          ]
        }
      ]
    },
    {
      "cell_type": "markdown",
      "metadata": {
        "id": "sdIWc_X4uLXB"
      },
      "source": [
        "### Evaluation of results"
      ]
    },
    {
      "cell_type": "code",
      "metadata": {
        "colab": {
          "base_uri": "https://localhost:8080/",
          "height": 143
        },
        "id": "ktlutKFzO3HO",
        "outputId": "fa3774e2-6b65-4087-f841-75d06e014df4"
      },
      "source": [
        "scores = pd.DataFrame(metrics_under, index=[0]).append(metrics_over,ignore_index=True).append(metrics_original,ignore_index=True)\n",
        "scores = scores.rename({0:'Under Sampling',1:'Over Sampling',2:'No Sampling'})\n",
        "scores"
      ],
      "execution_count": 48,
      "outputs": [
        {
          "output_type": "execute_result",
          "data": {
            "text/html": [
              "<div>\n",
              "<style scoped>\n",
              "    .dataframe tbody tr th:only-of-type {\n",
              "        vertical-align: middle;\n",
              "    }\n",
              "\n",
              "    .dataframe tbody tr th {\n",
              "        vertical-align: top;\n",
              "    }\n",
              "\n",
              "    .dataframe thead th {\n",
              "        text-align: right;\n",
              "    }\n",
              "</style>\n",
              "<table border=\"1\" class=\"dataframe\">\n",
              "  <thead>\n",
              "    <tr style=\"text-align: right;\">\n",
              "      <th></th>\n",
              "      <th>cv</th>\n",
              "      <th>acc_b</th>\n",
              "      <th>acc</th>\n",
              "      <th>kappa</th>\n",
              "    </tr>\n",
              "  </thead>\n",
              "  <tbody>\n",
              "    <tr>\n",
              "      <th>Under Sampling</th>\n",
              "      <td>0.000000</td>\n",
              "      <td>0.275362</td>\n",
              "      <td>0.211307</td>\n",
              "      <td>0.128559</td>\n",
              "    </tr>\n",
              "    <tr>\n",
              "      <th>Over Sampling</th>\n",
              "      <td>0.921993</td>\n",
              "      <td>0.430579</td>\n",
              "      <td>0.510890</td>\n",
              "      <td>0.420375</td>\n",
              "    </tr>\n",
              "    <tr>\n",
              "      <th>No Sampling</th>\n",
              "      <td>0.481143</td>\n",
              "      <td>NaN</td>\n",
              "      <td>0.538230</td>\n",
              "      <td>0.428383</td>\n",
              "    </tr>\n",
              "  </tbody>\n",
              "</table>\n",
              "</div>"
            ],
            "text/plain": [
              "                      cv     acc_b       acc     kappa\n",
              "Under Sampling  0.000000  0.275362  0.211307  0.128559\n",
              "Over Sampling   0.921993  0.430579  0.510890  0.420375\n",
              "No Sampling     0.481143       NaN  0.538230  0.428383"
            ]
          },
          "metadata": {},
          "execution_count": 48
        }
      ]
    },
    {
      "cell_type": "markdown",
      "metadata": {
        "id": "pwJf5UT5RN6s"
      },
      "source": [
        "Model trained on original dataset gave the best results, so lets check results."
      ]
    },
    {
      "cell_type": "code",
      "metadata": {
        "colab": {
          "base_uri": "https://localhost:8080/",
          "height": 489
        },
        "id": "Q39aFsNwtnR3",
        "outputId": "61b9ea2d-9760-4167-e89f-17eb2f50b10a"
      },
      "source": [
        "y_pred = clf.predict(X_test)\n",
        "cm = confusion_matrix(y_test.argmax(axis=1),y_pred.argmax(axis=1))\n",
        "plt.figure(figsize = (10,7))\n",
        "sns.heatmap(cm, xticklabels=y_labels, yticklabels=y_labels);\n",
        "plt.ylabel('True label');\n",
        "plt.xlabel('Predicted label');"
      ],
      "execution_count": 53,
      "outputs": [
        {
          "output_type": "display_data",
          "data": {
            "image/png": "[encoded data removed]",
            "text/plain": [
              "<Figure size 720x504 with 2 Axes>"
            ]
          },
          "metadata": {
            "needs_background": "light"
          }
        }
      ]
    },
    {
      "cell_type": "markdown",
      "metadata": {
        "id": "eOfZQzv6x8bV"
      },
      "source": [
        "On original test set other_sport category shadows remainin categories."
      ]
    },
    {
      "cell_type": "code",
      "metadata": {
        "colab": {
          "base_uri": "https://localhost:8080/",
          "height": 558
        },
        "id": "qmrIDrYfvPNl",
        "outputId": "6c7529d0-b28a-4229-a318-6178d3618fed"
      },
      "source": [
        "def my_func(a):\n",
        "    return a/sum(a)*100\n",
        "\n",
        "cm = np.apply_along_axis(my_func, 1, cm)\n",
        "\n",
        "sns.set(font_scale=1.5)\n",
        "plt.figure(figsize = (10,7))\n",
        "sns.heatmap(cm, xticklabels=y_labels, yticklabels=y_labels);\n",
        "plt.ylabel('True label');\n",
        "plt.xlabel('Predicted label');\n",
        "plt.title('Percentage of predictions, normalised to true lables');"
      ],
      "execution_count": 54,
      "outputs": [
        {
          "output_type": "display_data",
          "data": {
            "image/png": "[encoded data removed]",
            "text/plain": [
              "<Figure size 720x504 with 2 Axes>"
            ]
          },
          "metadata": {}
        }
      ]
    },
    {
      "cell_type": "markdown",
      "metadata": {
        "id": "vsAwlHXzyelM"
      },
      "source": [
        "Normalized results along true values shows that baseball discipline is main misclassification for remaining classes. Sport categories with small number of instancess seems to completelly misclassified to baseball category."
      ]
    },
    {
      "cell_type": "markdown",
      "metadata": {
        "id": "Z4xadU-Nywg-"
      },
      "source": [
        "## Conclusions"
      ]
    },
    {
      "cell_type": "markdown",
      "metadata": {
        "id": "PPgfYLALyz9M"
      },
      "source": [
        "- Our model gave very poor results, probably due to noise in data and/or differences in text, like lenght and their source."
      ]
    }
  ]
}